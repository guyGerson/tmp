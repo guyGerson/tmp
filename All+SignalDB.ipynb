{
 "cells": [
  {
   "cell_type": "code",
   "execution_count": 5,
   "metadata": {
    "collapsed": false
   },
   "outputs": [
    {
     "name": "stdout",
     "output_type": "stream",
     "text": [
      "  % Total    % Received % Xferd  Average Speed   Time    Time     Time  Current\n",
      "                                 Dload  Upload   Total   Spent    Left  Speed\n",
      "100 18.8M    0 18.8M    0     0  17.9M      0 --:--:--  0:00:01 --:--:-- 18.0M\n"
     ]
    }
   ],
   "source": [
    "!curl https://setigopublic.mybluemix.net/v1/aca/meta/all > signaldb.csv.gz"
   ]
  },
  {
   "cell_type": "code",
   "execution_count": 7,
   "metadata": {
    "collapsed": true
   },
   "outputs": [],
   "source": [
    "!gunzip signaldb.csv.gz"
   ]
  },
  {
   "cell_type": "code",
   "execution_count": 9,
   "metadata": {
    "collapsed": false
   },
   "outputs": [
    {
     "name": "stdout",
     "output_type": "stream",
     "text": [
      "-rw-r----- 1 sc3e-53554f95eddadf-4e28db014a7c users 122M May 15 16:36 signaldb.csv\r\n"
     ]
    }
   ],
   "source": [
    "!ls -alh signaldb.csv"
   ]
  },
  {
   "cell_type": "code",
   "execution_count": 1,
   "metadata": {
    "collapsed": false
   },
   "outputs": [
    {
     "data": {
      "text/plain": [
       "[Row(UNIQUEID=u'ldn1622_1500_168_3011_19_103758', TIME=u'2013-03-02 06:03:29', ACTTYP=u'pointantswait', TGTID=u'2800031', CATALOG=u'ldn1622grid', RA2000HR=u'5.872', DEC2000DEG=u'1.087', POWER=u'401.0', SNR=None, FREQMHZ=u'1499.79070556', DRIFTHZS=u'-1.145', WIDHZ=u'2.778', POL=u'left', SIGTYP=u'CwP', PPERIODS=None, NPUL=u'0', INTTIMES=u'94.0', TSCPAZDEG=u'233.671', TSCPELDEG=u'36.754', BEAMNO=u'3', SIGCLASS=u'Cand', SIGREASON=u'PsPwrT', CANDREASON=u'SnMulBm', CONTAINER=u'setiCompAmp', OBJECTNAME=u'2013-03-02/act168/2013-03-02_06-03-45_UTC.act168.dx3011.id-19.R.archive-compamp'),\n",
       " Row(UNIQUEID=u'ldn1622_1500_168_3002_4_103698', TIME=u'2013-03-02 06:03:29', ACTTYP=u'pointantswait', TGTID=u'2800031', CATALOG=u'ldn1622grid', RA2000HR=u'5.872', DEC2000DEG=u'1.087', POWER=u'414.0', SNR=None, FREQMHZ=u'1491.86280556', DRIFTHZS=u'-0.121', WIDHZ=u'2.778', POL=u'right', SIGTYP=u'CwP', PPERIODS=None, NPUL=u'0', INTTIMES=u'94.0', TSCPAZDEG=u'233.671', TSCPELDEG=u'36.754', BEAMNO=u'3', SIGCLASS=u'Cand', SIGREASON=u'PsPwrT', CANDREASON=u'SnMulBm', CONTAINER=u'setiCompAmp', OBJECTNAME=u'2013-03-02/act168/2013-03-02_06-03-42_UTC.act168.dx3002.id-4.R.archive-compamp'),\n",
       " Row(UNIQUEID=u'ldn1622_1500_252_1021_3_129682', TIME=u'2013-03-03 05:21:45', ACTTYP=u'target1-on', TGTID=u'2800031', CATALOG=u'ldn1622grid', RA2000HR=u'5.872', DEC2000DEG=u'1.087', POWER=u'407.0', SNR=None, FREQMHZ=u'1477.35708611', DRIFTHZS=u'0.06', WIDHZ=u'2.778', POL=u'left', SIGTYP=u'CwP', PPERIODS=None, NPUL=u'0', INTTIMES=u'94.0', TSCPAZDEG=u'223.622', TSCPELDEG=u'42.113', BEAMNO=u'1', SIGCLASS=u'Cand', SIGREASON=u'PsPwrT', CANDREASON=u'SnMulBm', CONTAINER=u'setiCompAmp', OBJECTNAME=u'2013-03-03/act252/2013-03-03_05-21-54_UTC.act252.dx1021.id-3.L.archive-compamp'),\n",
       " Row(UNIQUEID=u'ldn1622_1500_252_1011_7_129839', TIME=u'2013-03-03 05:21:47', ACTTYP=u'target1-on', TGTID=u'2800031', CATALOG=u'ldn1622grid', RA2000HR=u'5.872', DEC2000DEG=u'1.087', POWER=u'402.0', SNR=None, FREQMHZ=u'1469.56154444', DRIFTHZS=u'1.175', WIDHZ=u'2.778', POL=u'right', SIGTYP=u'CwP', PPERIODS=None, NPUL=u'0', INTTIMES=u'94.0', TSCPAZDEG=u'223.622', TSCPELDEG=u'42.113', BEAMNO=u'1', SIGCLASS=u'Cand', SIGREASON=u'PsPwrT', CANDREASON=u'SnMulBm', CONTAINER=u'setiCompAmp', OBJECTNAME=u'2013-03-03/act252/2013-03-03_05-21-53_UTC.act252.dx1011.id-7.R.archive-compamp'),\n",
       " Row(UNIQUEID=u'ldn1622_1500_252_1015_5_129982', TIME=u'2013-03-03 05:21:49', ACTTYP=u'target1-on', TGTID=u'2800031', CATALOG=u'ldn1622grid', RA2000HR=u'5.872', DEC2000DEG=u'1.087', POWER=u'406.0', SNR=None, FREQMHZ=u'1473.07356667', DRIFTHZS=u'0.754', WIDHZ=u'2.778', POL=u'right', SIGTYP=u'CwP', PPERIODS=None, NPUL=u'0', INTTIMES=u'94.0', TSCPAZDEG=u'223.622', TSCPELDEG=u'42.113', BEAMNO=u'1', SIGCLASS=u'Cand', SIGREASON=u'PsPwrT', CANDREASON=u'SnMulBm', CONTAINER=u'setiCompAmp', OBJECTNAME=u'2013-03-03/act252/2013-03-03_05-21-53_UTC.act252.dx1015.id-5.L.archive-compamp')]"
      ]
     },
     "execution_count": 1,
     "metadata": {},
     "output_type": "execute_result"
    }
   ],
   "source": [
    "from pyspark.sql import SparkSession\n",
    "\n",
    "spark = SparkSession.builder.getOrCreate()\n",
    "\n",
    "df = spark.read\\\n",
    "  .format('org.apache.spark.sql.execution.datasources.csv.CSVFileFormat')\\\n",
    "  .option('header', 'true')\\\n",
    "  .load('signaldb.csv')\n",
    "df.take(5)\n"
   ]
  },
  {
   "cell_type": "code",
   "execution_count": 2,
   "metadata": {
    "collapsed": false
   },
   "outputs": [
    {
     "data": {
      "text/plain": [
       "DataFrame[UNIQUEID: string, TIME: string, ACTTYP: string, TGTID: string, CATALOG: string, RA2000HR: string, DEC2000DEG: string, POWER: string, SNR: string, FREQMHZ: string, DRIFTHZS: string, WIDHZ: string, POL: string, SIGTYP: string, PPERIODS: string, NPUL: string, INTTIMES: string, TSCPAZDEG: string, TSCPELDEG: string, BEAMNO: string, SIGCLASS: string, SIGREASON: string, CANDREASON: string, CONTAINER: string, OBJECTNAME: string]"
      ]
     },
     "execution_count": 2,
     "metadata": {},
     "output_type": "execute_result"
    }
   ],
   "source": [
    "df.cache()"
   ]
  },
  {
   "cell_type": "code",
   "execution_count": 3,
   "metadata": {
    "collapsed": true
   },
   "outputs": [],
   "source": [
    "df.createOrReplaceTempView(\"signaldb\")"
   ]
  },
  {
   "cell_type": "code",
   "execution_count": 4,
   "metadata": {
    "collapsed": true
   },
   "outputs": [],
   "source": [
    "df2 = spark.sql(\"select container, objectname from signaldb where ra2000hr == 0.03 and dec2000deg == 66.306\")"
   ]
  },
  {
   "cell_type": "code",
   "execution_count": 8,
   "metadata": {
    "collapsed": true
   },
   "outputs": [],
   "source": [
    "raw_loc = df2.collect()"
   ]
  },
  {
   "cell_type": "code",
   "execution_count": 9,
   "metadata": {
    "collapsed": false
   },
   "outputs": [
    {
     "data": {
      "text/plain": [
       "[Row(container=u'setiCompAmp', objectname=u'2013-03-14/act12/2013-03-14_20-43-56_UTC.act12.dx1012.id-1.R.archive-compamp'),\n",
       " Row(container=u'setiCompAmp', objectname=u'2013-03-14/act12/2013-03-14_20-43-56_UTC.act12.dx1012.id-1.L.archive-compamp'),\n",
       " Row(container=u'setiCompAmp', objectname=u'2013-03-14/act10/2013-03-14_20-37-33_UTC.act10.dx1000.id-1.L.archive-compamp'),\n",
       " Row(container=u'setiCompAmp', objectname=u'2013-03-14/act10/2013-03-14_20-37-33_UTC.act10.dx1012.id-1.R.archive-compamp'),\n",
       " Row(container=u'setiCompAmp', objectname=u'2013-03-14/act10/2013-03-14_20-37-32_UTC.act10.dx1000.id-0.R.archive-compamp'),\n",
       " Row(container=u'setiCompAmp', objectname=u'2013-03-14/act15/2013-03-14_20-52-29_UTC.act15.dx1006.id-1.L.archive-compamp'),\n",
       " Row(container=u'setiCompAmp', objectname=u'2013-03-14/act10/2013-03-14_20-37-33_UTC.act10.dx1017.id-2.R.archive-compamp'),\n",
       " Row(container=u'setiCompAmp', objectname=u'2013-03-14/act10/2013-03-14_20-37-32_UTC.act10.dx1006.id-1.L.archive-compamp'),\n",
       " Row(container=u'setiCompAmp', objectname=u'2013-03-14/act10/2013-03-14_20-37-33_UTC.act10.dx1006.id-2.L.archive-compamp'),\n",
       " Row(container=u'setiCompAmp', objectname=u'2013-03-14/act10/2013-03-14_20-37-33_UTC.act10.dx1015.id-2.R.archive-compamp'),\n",
       " Row(container=u'setiCompAmp', objectname=u'2013-03-14/act12/2013-03-14_20-43-56_UTC.act12.dx1017.id-1.R.archive-compamp'),\n",
       " Row(container=u'setiCompAmp', objectname=u'2013-03-14/act10/2013-03-14_20-37-33_UTC.act10.dx1005.id-1.L.archive-compamp'),\n",
       " Row(container=u'setiCompAmp', objectname=u'2013-03-14/act10/2013-03-14_20-37-32_UTC.act10.dx1014.id-0.R.archive-compamp'),\n",
       " Row(container=u'setiCompAmp', objectname=u'2013-03-14/act10/2013-03-14_20-37-32_UTC.act10.dx1019.id-0.L.archive-compamp'),\n",
       " Row(container=u'setiCompAmp', objectname=u'2013-03-14/act10/2013-03-14_20-37-33_UTC.act10.dx1015.id-3.L.archive-compamp'),\n",
       " Row(container=u'setiCompAmp', objectname=u'2013-03-14/act10/2013-03-14_20-37-32_UTC.act10.dx1012.id-0.L.archive-compamp'),\n",
       " Row(container=u'setiCompAmp', objectname=u'2013-03-14/act10/2013-03-14_20-37-32_UTC.act10.dx1003.id-0.L.archive-compamp'),\n",
       " Row(container=u'setiCompAmp', objectname=u'2013-03-14/act10/2013-03-14_20-37-33_UTC.act10.dx1015.id-6.R.archive-compamp'),\n",
       " Row(container=u'setiCompAmp', objectname=u'2013-03-14/act11/2013-03-14_20-39-35_UTC.act11.dx1006.id-3.L.archive-compamp'),\n",
       " Row(container=u'setiCompAmp', objectname=u'2013-03-14/act10/2013-03-14_20-37-33_UTC.act10.dx1000.id-7.L.archive-compamp'),\n",
       " Row(container=u'setiCompAmp', objectname=u'2013-03-14/act10/2013-03-14_20-37-32_UTC.act10.dx1021.id-0.R.archive-compamp'),\n",
       " Row(container=u'setiCompAmp', objectname=u'2013-03-14/act10/2013-03-14_20-37-33_UTC.act10.dx1000.id-1.R.archive-compamp'),\n",
       " Row(container=u'setiCompAmp', objectname=u'2013-03-14/act10/2013-03-14_20-37-33_UTC.act10.dx1012.id-1.L.archive-compamp'),\n",
       " Row(container=u'setiCompAmp', objectname=u'2013-03-14/act10/2013-03-14_20-37-32_UTC.act10.dx1000.id-0.L.archive-compamp'),\n",
       " Row(container=u'setiCompAmp', objectname=u'2013-03-14/act15/2013-03-14_20-52-29_UTC.act15.dx1006.id-1.R.archive-compamp'),\n",
       " Row(container=u'setiCompAmp', objectname=u'2013-03-14/act10/2013-03-14_20-37-33_UTC.act10.dx1017.id-2.L.archive-compamp'),\n",
       " Row(container=u'setiCompAmp', objectname=u'2013-03-14/act10/2013-03-14_20-37-32_UTC.act10.dx1006.id-1.R.archive-compamp'),\n",
       " Row(container=u'setiCompAmp', objectname=u'2013-03-14/act10/2013-03-14_20-37-33_UTC.act10.dx1006.id-2.R.archive-compamp'),\n",
       " Row(container=u'setiCompAmp', objectname=u'2013-03-14/act10/2013-03-14_20-37-33_UTC.act10.dx1015.id-2.L.archive-compamp'),\n",
       " Row(container=u'setiCompAmp', objectname=u'2013-03-14/act12/2013-03-14_20-43-56_UTC.act12.dx1017.id-1.L.archive-compamp'),\n",
       " Row(container=u'setiCompAmp', objectname=u'2013-03-14/act10/2013-03-14_20-37-33_UTC.act10.dx1005.id-1.R.archive-compamp'),\n",
       " Row(container=u'setiCompAmp', objectname=u'2013-03-14/act10/2013-03-14_20-37-32_UTC.act10.dx1014.id-0.L.archive-compamp'),\n",
       " Row(container=u'setiCompAmp', objectname=u'2013-03-14/act10/2013-03-14_20-37-32_UTC.act10.dx1019.id-0.R.archive-compamp'),\n",
       " Row(container=u'setiCompAmp', objectname=u'2013-03-14/act10/2013-03-14_20-37-33_UTC.act10.dx1015.id-3.R.archive-compamp'),\n",
       " Row(container=u'setiCompAmp', objectname=u'2013-03-14/act10/2013-03-14_20-37-32_UTC.act10.dx1012.id-0.R.archive-compamp'),\n",
       " Row(container=u'setiCompAmp', objectname=u'2013-03-14/act10/2013-03-14_20-37-32_UTC.act10.dx1003.id-0.R.archive-compamp'),\n",
       " Row(container=u'setiCompAmp', objectname=u'2013-03-14/act10/2013-03-14_20-37-33_UTC.act10.dx1015.id-6.L.archive-compamp'),\n",
       " Row(container=u'setiCompAmp', objectname=u'2013-03-14/act11/2013-03-14_20-39-35_UTC.act11.dx1006.id-3.R.archive-compamp'),\n",
       " Row(container=u'setiCompAmp', objectname=u'2013-03-14/act10/2013-03-14_20-37-33_UTC.act10.dx1000.id-7.R.archive-compamp'),\n",
       " Row(container=u'setiCompAmp', objectname=u'2013-03-14/act10/2013-03-14_20-37-32_UTC.act10.dx1021.id-0.L.archive-compamp'),\n",
       " Row(container=u'setiCompAmp', objectname=u'2013-03-14/act10/2013-03-14_20-37-33_UTC.act10.dx1000.id-5.L.archive-compamp'),\n",
       " Row(container=u'setiCompAmp', objectname=u'2013-03-14/act15/2013-03-14_20-52-29_UTC.act15.dx1005.id-0.R.archive-compamp'),\n",
       " Row(container=u'setiCompAmp', objectname=u'2013-03-14/act10/2013-03-14_20-37-33_UTC.act10.dx1011.id-1.R.archive-compamp'),\n",
       " Row(container=u'setiCompAmp', objectname=u'2013-03-14/act9/2013-03-14_20-33-07_UTC.act9.dx1006.id-0.R.archive-compamp'),\n",
       " Row(container=u'setiCompAmp', objectname=u'2013-03-14/act12/2013-03-14_20-43-56_UTC.act12.dx1006.id-0.L.archive-compamp'),\n",
       " Row(container=u'setiCompAmp', objectname=u'2013-03-14/act10/2013-03-14_20-37-32_UTC.act10.dx1002.id-0.R.archive-compamp'),\n",
       " Row(container=u'setiCompAmp', objectname=u'2013-03-14/act10/2013-03-14_20-37-33_UTC.act10.dx1009.id-1.L.archive-compamp'),\n",
       " Row(container=u'setiCompAmp', objectname=u'2013-03-14/act10/2013-03-14_20-37-33_UTC.act10.dx1014.id-1.L.archive-compamp'),\n",
       " Row(container=u'setiCompAmp', objectname=u'2013-03-14/act10/2013-03-14_20-37-32_UTC.act10.dx1017.id-0.R.archive-compamp'),\n",
       " Row(container=u'setiCompAmp', objectname=u'2013-03-14/act10/2013-03-14_20-37-32_UTC.act10.dx1009.id-0.L.archive-compamp'),\n",
       " Row(container=u'setiCompAmp', objectname=u'2013-03-14/act10/2013-03-14_20-37-33_UTC.act10.dx1000.id-3.R.archive-compamp'),\n",
       " Row(container=u'setiCompAmp', objectname=u'2013-03-14/act10/2013-03-14_20-37-33_UTC.act10.dx1008.id-1.L.archive-compamp'),\n",
       " Row(container=u'setiCompAmp', objectname=u'2013-03-14/act10/2013-03-14_20-37-32_UTC.act10.dx1005.id-0.L.archive-compamp'),\n",
       " Row(container=u'setiCompAmp', objectname=u'2013-03-14/act10/2013-03-14_20-37-32_UTC.act10.dx1008.id-0.R.archive-compamp'),\n",
       " Row(container=u'setiCompAmp', objectname=u'2013-03-14/act10/2013-03-14_20-37-32_UTC.act10.dx1015.id-0.L.archive-compamp'),\n",
       " Row(container=u'setiCompAmp', objectname=u'2013-03-14/act10/2013-03-14_20-37-33_UTC.act10.dx1000.id-5.R.archive-compamp'),\n",
       " Row(container=u'setiCompAmp', objectname=u'2013-03-14/act15/2013-03-14_20-52-29_UTC.act15.dx1005.id-0.L.archive-compamp'),\n",
       " Row(container=u'setiCompAmp', objectname=u'2013-03-14/act10/2013-03-14_20-37-33_UTC.act10.dx1011.id-1.L.archive-compamp'),\n",
       " Row(container=u'setiCompAmp', objectname=u'2013-03-14/act9/2013-03-14_20-33-07_UTC.act9.dx1006.id-0.L.archive-compamp'),\n",
       " Row(container=u'setiCompAmp', objectname=u'2013-03-14/act12/2013-03-14_20-43-56_UTC.act12.dx1006.id-0.R.archive-compamp'),\n",
       " Row(container=u'setiCompAmp', objectname=u'2013-03-14/act10/2013-03-14_20-37-32_UTC.act10.dx1002.id-0.L.archive-compamp'),\n",
       " Row(container=u'setiCompAmp', objectname=u'2013-03-14/act10/2013-03-14_20-37-33_UTC.act10.dx1009.id-1.R.archive-compamp'),\n",
       " Row(container=u'setiCompAmp', objectname=u'2013-03-14/act10/2013-03-14_20-37-33_UTC.act10.dx1014.id-1.R.archive-compamp'),\n",
       " Row(container=u'setiCompAmp', objectname=u'2013-03-14/act10/2013-03-14_20-37-32_UTC.act10.dx1017.id-0.L.archive-compamp'),\n",
       " Row(container=u'setiCompAmp', objectname=u'2013-03-14/act10/2013-03-14_20-37-32_UTC.act10.dx1009.id-0.R.archive-compamp'),\n",
       " Row(container=u'setiCompAmp', objectname=u'2013-03-14/act10/2013-03-14_20-37-33_UTC.act10.dx1000.id-3.L.archive-compamp'),\n",
       " Row(container=u'setiCompAmp', objectname=u'2013-03-14/act10/2013-03-14_20-37-33_UTC.act10.dx1008.id-1.R.archive-compamp'),\n",
       " Row(container=u'setiCompAmp', objectname=u'2013-03-14/act10/2013-03-14_20-37-32_UTC.act10.dx1005.id-0.R.archive-compamp'),\n",
       " Row(container=u'setiCompAmp', objectname=u'2013-03-14/act10/2013-03-14_20-37-32_UTC.act10.dx1008.id-0.L.archive-compamp'),\n",
       " Row(container=u'setiCompAmp', objectname=u'2013-03-14/act10/2013-03-14_20-37-32_UTC.act10.dx1015.id-0.R.archive-compamp'),\n",
       " Row(container=u'setiCompAmp', objectname=u'2013-03-14/act10/2013-03-14_20-37-33_UTC.act10.dx1017.id-1.R.archive-compamp'),\n",
       " Row(container=u'setiCompAmp', objectname=u'2013-03-14/act10/2013-03-14_20-37-32_UTC.act10.dx1018.id-3.L.archive-compamp'),\n",
       " Row(container=u'setiCompAmp', objectname=u'2013-03-14/act10/2013-03-14_20-37-32_UTC.act10.dx1011.id-0.R.archive-compamp'),\n",
       " Row(container=u'setiCompAmp', objectname=u'2013-03-14/act10/2013-03-14_20-37-33_UTC.act10.dx1018.id-6.L.archive-compamp'),\n",
       " Row(container=u'setiCompAmp', objectname=u'2013-03-14/act10/2013-03-14_20-37-33_UTC.act10.dx1002.id-1.R.archive-compamp'),\n",
       " Row(container=u'setiCompAmp', objectname=u'2013-03-14/act10/2013-03-14_20-37-33_UTC.act10.dx1017.id-1.L.archive-compamp'),\n",
       " Row(container=u'setiCompAmp', objectname=u'2013-03-14/act10/2013-03-14_20-37-32_UTC.act10.dx1018.id-3.R.archive-compamp'),\n",
       " Row(container=u'setiCompAmp', objectname=u'2013-03-14/act10/2013-03-14_20-37-32_UTC.act10.dx1011.id-0.L.archive-compamp'),\n",
       " Row(container=u'setiCompAmp', objectname=u'2013-03-14/act10/2013-03-14_20-37-33_UTC.act10.dx1018.id-6.R.archive-compamp'),\n",
       " Row(container=u'setiCompAmp', objectname=u'2013-03-14/act10/2013-03-14_20-37-33_UTC.act10.dx1002.id-1.L.archive-compamp')]"
      ]
     },
     "execution_count": 9,
     "metadata": {},
     "output_type": "execute_result"
    }
   ],
   "source": [
    "raw_loc"
   ]
  },
  {
   "cell_type": "code",
   "execution_count": null,
   "metadata": {
    "collapsed": true
   },
   "outputs": [],
   "source": []
  }
 ],
 "metadata": {
  "kernelspec": {
   "display_name": "Python 2 with Spark 2.0",
   "language": "python",
   "name": "python2-spark20"
  },
  "language_info": {
   "codemirror_mode": {
    "name": "ipython",
    "version": 2
   },
   "file_extension": ".py",
   "mimetype": "text/x-python",
   "name": "python",
   "nbconvert_exporter": "python",
   "pygments_lexer": "ipython2",
   "version": "2.7.11"
  }
 },
 "nbformat": 4,
 "nbformat_minor": 0
}